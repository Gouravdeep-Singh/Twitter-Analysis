{
 "cells": [
  {
   "cell_type": "code",
   "execution_count": null,
   "id": "0b25de00",
   "metadata": {},
   "outputs": [],
   "source": [
    "import numpy as np\n",
    "import pandas as pd\n",
    "from nltk.classify import NaiveBayesClassifier\n",
    "from nltk.corpus import subjectivity\n",
    "from nltk.sentiment import SentimentAnalyzer\n",
    "from nltk.sentiment.util import *\n",
    "import matplotlib.pyplot as plt\n",
    "import tweepy as tw\n",
    "import csv\n",
    "import string\n",
    "import re\n",
    "from nltk.tokenize import word_tokenize"
   ]
  },
  {
   "cell_type": "code",
   "execution_count": null,
   "id": "749fcb11",
   "metadata": {},
   "outputs": [],
   "source": [
    "ACCESS_TOKEN=\"1571225528748630019-EcwlxWxBZscFI8EKSc4qTRmVGOv0Vw\"\n",
    "ACCESS_TOKEN_SECRET=\"rbMFeCm3dIignzFKBXKClVqCMCxsWq9K15Ixcnsgp8GOf\"\n",
    "\n",
    "CUSTOMER_API_KEY=\"9roaweF3NzesR5eZliG8KZEri\"\n",
    "CUSTOMER_API_SECRET=\"PisH5oSYYljNcOuvDvt0z5kCNGtPkvD9LxlvbECoH2uYEixOTq\""
   ]
  },
  {
   "cell_type": "code",
   "execution_count": null,
   "id": "9a85edee",
   "metadata": {},
   "outputs": [],
   "source": [
    "#create an authentication object\n",
    "my_auth_obj=tw.OAuthHandler(CUSTOMER_API_KEY,CUSTOMER_API_SECRET)\n",
    "#Set access taken to auth object\n",
    "my_auth_obj.set_access_token(ACCESS_TOKEN,ACCESS_TOKEN_SECRET)\n",
    "#create an API object to get tweets using authentication object\n",
    "my_api=tw.API(my_auth_obj)"
   ]
  },
  {
   "cell_type": "markdown",
   "id": "ae801e65",
   "metadata": {},
   "source": [
    "# Collecting the data"
   ]
  },
  {
   "cell_type": "code",
   "execution_count": 4,
   "id": "48c1c057",
   "metadata": {
    "scrolled": true
   },
   "outputs": [
    {
     "data": {
      "text/plain": [
       "1000"
      ]
     },
     "execution_count": 4,
     "metadata": {},
     "output_type": "execute_result"
    }
   ],
   "source": [
    "tweets_alt=[]\n",
    "for i in tw.Cursor(my_api.search_tweets,q=\"#Altcoin ,since:2022-11-1\",lang=\"en\").items(1000): #,until=\"2022-11-08\"\n",
    "    tweets_alt.append(i)\n",
    "    \n",
    "len(tweets_alt)"
   ]
  },
  {
   "cell_type": "code",
   "execution_count": 5,
   "id": "3f12b429",
   "metadata": {},
   "outputs": [
    {
     "data": {
      "text/plain": [
       "1000"
      ]
     },
     "execution_count": 5,
     "metadata": {},
     "output_type": "execute_result"
    }
   ],
   "source": [
    "tweets_bit=[]\n",
    "for i in tw.Cursor(my_api.search_tweets,q=\"#Bitcoin ,since:2022-11-1\",lang=\"en\").items(1000): #,until=\"2022-11-08\"\n",
    "    tweets_bit.append(i)\n",
    "    \n",
    "len(tweets_bit)"
   ]
  },
  {
   "cell_type": "code",
   "execution_count": 4,
   "id": "457e7bfb",
   "metadata": {},
   "outputs": [
    {
     "data": {
      "text/plain": [
       "1000"
      ]
     },
     "execution_count": 4,
     "metadata": {},
     "output_type": "execute_result"
    }
   ],
   "source": [
    "tweets_cryp=[]\n",
    "for i in tw.Cursor(my_api.search_tweets,q=\"#Cryptocurrency ,since:2022-11-1\",lang=\"en\").items(1000): #,until=\"2022-11-08\"\n",
    "    tweets_cryp.append(i)\n",
    "    \n",
    "len(tweets_cryp)"
   ]
  },
  {
   "cell_type": "code",
   "execution_count": 5,
   "id": "d5a5b1b3",
   "metadata": {},
   "outputs": [
    {
     "data": {
      "text/plain": [
       "407"
      ]
     },
     "execution_count": 5,
     "metadata": {},
     "output_type": "execute_result"
    }
   ],
   "source": [
    "tweets_coin=[]\n",
    "for i in tw.Cursor(my_api.search_tweets,q=\"#Coindesk ,since:2022-11-1\",lang=\"en\").items(1000): #,until=\"2022-11-08\"\n",
    "    tweets_coin.append(i)\n",
    "    \n",
    "len(tweets_coin)"
   ]
  },
  {
   "cell_type": "code",
   "execution_count": 6,
   "id": "dd97e436",
   "metadata": {},
   "outputs": [
    {
     "data": {
      "text/plain": [
       "1000"
      ]
     },
     "execution_count": 6,
     "metadata": {},
     "output_type": "execute_result"
    }
   ],
   "source": [
    "tweets_ap=[]\n",
    "for i in tw.Cursor(my_api.search_tweets,q=\"#APPLE ,since:2022-11-1\",lang=\"en\").items(1000): #,until=\"2022-11-08\"\n",
    "    tweets_ap.append(i)\n",
    "    \n",
    "len(tweets_ap)"
   ]
  },
  {
   "cell_type": "code",
   "execution_count": 7,
   "id": "8e966506",
   "metadata": {},
   "outputs": [
    {
     "data": {
      "text/plain": [
       "251"
      ]
     },
     "execution_count": 7,
     "metadata": {},
     "output_type": "execute_result"
    }
   ],
   "source": [
    "tweets_go=[]\n",
    "for i in tw.Cursor(my_api.search_tweets,q=\"#GOOG ,since:2022-11-1\",lang=\"en\").items(1000): #,until=\"2022-11-08\"\n",
    "    tweets_go.append(i)\n",
    "    \n",
    "len(tweets_go)"
   ]
  },
  {
   "cell_type": "code",
   "execution_count": 8,
   "id": "21ac3319",
   "metadata": {},
   "outputs": [
    {
     "data": {
      "text/plain": [
       "1000"
      ]
     },
     "execution_count": 8,
     "metadata": {},
     "output_type": "execute_result"
    }
   ],
   "source": [
    "tweets_y=[]\n",
    "for i in tw.Cursor(my_api.search_tweets,q=\"#YAHOO ,since:2022-11-1\",lang=\"en\").items(1000): #,until=\"2022-11-08\"\n",
    "    tweets_y.append(i)\n",
    "    \n",
    "len(tweets_y)"
   ]
  },
  {
   "cell_type": "code",
   "execution_count": 37,
   "id": "34a95808",
   "metadata": {
    "scrolled": true
   },
   "outputs": [],
   "source": [
    "tweets_gold=[]\n",
    "for i in tw.Cursor(my_api.search_tweets,q=\"#gold ,since:2022-11-1\",lang=\"en\").items(1000): #,until=\"2022-11-08\"\n",
    "    tweets_gold.append(i)"
   ]
  },
  {
   "cell_type": "code",
   "execution_count": 38,
   "id": "316005e4",
   "metadata": {},
   "outputs": [
    {
     "data": {
      "text/plain": [
       "1000"
      ]
     },
     "execution_count": 38,
     "metadata": {},
     "output_type": "execute_result"
    }
   ],
   "source": [
    "len(tweets_gold)"
   ]
  },
  {
   "cell_type": "markdown",
   "id": "6f4f1629",
   "metadata": {},
   "source": [
    "# Saving Data"
   ]
  },
  {
   "cell_type": "code",
   "execution_count": 39,
   "id": "3077df50",
   "metadata": {},
   "outputs": [],
   "source": [
    "altcoin=pd.DataFrame(data=[[i.created_at.date(),\"{}:{}:{}\".format(i.created_at.timetuple().tm_hour,i.created_at.timetuple().tm_min,i.created_at.timetuple().tm_sec),i.id,i.author.screen_name,i.user.id,i.text] for i in tweets_alt],columns=[\"Date\",\"Time\",\"ID\",\"UserName\",\"UserID\",\"Tweet\"])\n",
    "bitcoin=pd.DataFrame(data=[[i.created_at.date(),\"{}:{}:{}\".format(i.created_at.timetuple().tm_hour,i.created_at.timetuple().tm_min,i.created_at.timetuple().tm_sec),i.id,i.author.screen_name,i.user.id,i.text] for i in tweets_bit],columns=[\"Date\",\"Time\",\"ID\",\"UserName\",\"UserID\",\"Tweet\"])\n",
    "crypto=pd.DataFrame(data=[[i.created_at.date(),\"{}:{}:{}\".format(i.created_at.timetuple().tm_hour,i.created_at.timetuple().tm_min,i.created_at.timetuple().tm_sec),i.id,i.author.screen_name,i.user.id,i.text] for i in tweets_cryp],columns=[\"Date\",\"Time\",\"ID\",\"UserName\",\"UserID\",\"Tweet\"])\n",
    "coindesk=pd.DataFrame(data=[[i.created_at.date(),\"{}:{}:{}\".format(i.created_at.timetuple().tm_hour,i.created_at.timetuple().tm_min,i.created_at.timetuple().tm_sec),i.id,i.author.screen_name,i.user.id,i.text] for i in tweets_coin],columns=[\"Date\",\"Time\",\"ID\",\"UserName\",\"UserID\",\"Tweet\"])\n",
    "APPL=pd.DataFrame(data=[[i.created_at.date(),\"{}:{}:{}\".format(i.created_at.timetuple().tm_hour,i.created_at.timetuple().tm_min,i.created_at.timetuple().tm_sec),i.id,i.author.screen_name,i.user.id,i.text] for i in tweets_ap],columns=[\"Date\",\"Time\",\"ID\",\"UserName\",\"UserID\",\"Tweet\"])\n",
    "GOOG=pd.DataFrame(data=[[i.created_at.date(),\"{}:{}:{}\".format(i.created_at.timetuple().tm_hour,i.created_at.timetuple().tm_min,i.created_at.timetuple().tm_sec),i.id,i.author.screen_name,i.user.id,i.text] for i in tweets_go],columns=[\"Date\",\"Time\",\"ID\",\"UserName\",\"UserID\",\"Tweet\"])\n",
    "YAHOO=pd.DataFrame(data=[[i.created_at.date(),\"{}:{}:{}\".format(i.created_at.timetuple().tm_hour,i.created_at.timetuple().tm_min,i.created_at.timetuple().tm_sec),i.id,i.author.screen_name,i.user.id,i.text] for i in tweets_y],columns=[\"Date\",\"Time\",\"ID\",\"UserName\",\"UserID\",\"Tweet\"])\n",
    "gold=pd.DataFrame(data=[[i.created_at.date(),\"{}:{}:{}\".format(i.created_at.timetuple().tm_hour,i.created_at.timetuple().tm_min,i.created_at.timetuple().tm_sec),i.id,i.author.screen_name,i.user.id,i.text] for i in tweets_gold],columns=[\"Date\",\"Time\",\"ID\",\"UserName\",\"UserID\",\"Tweet\"])"
   ]
  },
  {
   "cell_type": "code",
   "execution_count": 40,
   "id": "0d6087ea",
   "metadata": {},
   "outputs": [],
   "source": [
    "#converting to csv format\n",
    "\n",
    "altcoin.to_csv(\"test_csv/Tweets_altcoin.csv\")\n",
    "bitcoin.to_csv(\"test_csv/Tweets_bitcoin.csv\")\n",
    "crypto.to_csv(\"test_csv/Tweets_cryptocurrency.csv\")\n",
    "coindesk.to_csv(\"test_csv/Tweets_coindesk.csv\")\n",
    "APPL.to_csv(\"test_csv/Tweets_APPL.csv\")\n",
    "GOOG.to_csv(\"test_csv/Tweets_GOOG.csv\")\n",
    "YAHOO.to_csv(\"test_csv/Tweets_YAHOO.csv\")\n",
    "gold.to_csv(\"test_csv/Tweets_gold.csv\")"
   ]
  },
  {
   "cell_type": "markdown",
   "id": "cc59e034",
   "metadata": {},
   "source": [
    "# Cleaning the data"
   ]
  },
  {
   "cell_type": "code",
   "execution_count": 15,
   "id": "55f49870",
   "metadata": {},
   "outputs": [],
   "source": [
    "stopwords = nltk.corpus.stopwords.words('english')"
   ]
  },
  {
   "cell_type": "code",
   "execution_count": 16,
   "id": "2e8babc6",
   "metadata": {},
   "outputs": [],
   "source": [
    "punctuation_list = list(string.punctuation)"
   ]
  },
  {
   "cell_type": "code",
   "execution_count": 17,
   "id": "3084a6cb",
   "metadata": {},
   "outputs": [],
   "source": [
    "def clean(column):\n",
    "    updated_tokens = []\n",
    "    for text in column:\n",
    "        tokens=word_tokenize(text.lower()) \n",
    "        updated_token_string = ''\n",
    "        for token in tokens:\n",
    "            if (token not in punctuation_list) and (len(token)>2) and (token not in stopwords):\n",
    "                updated_token = ''\n",
    "                for element in token:\n",
    "                    if (element not in punctuation_list) and (ord(element) not in range(48,58)) and (ord(element)<= 200):\n",
    "                        updated_token += element\n",
    "                if len(updated_token):\n",
    "                    if len(updated_token_string):\n",
    "                        updated_token_string += ' '\n",
    "                    updated_token_string += (updated_token)\n",
    "        updated_tokens.append(updated_token_string)\n",
    "    return updated_tokens"
   ]
  },
  {
   "cell_type": "code",
   "execution_count": 18,
   "id": "0398938b",
   "metadata": {
    "collapsed": true
   },
   "outputs": [
    {
     "data": {
      "text/html": [
       "<div>\n",
       "<style scoped>\n",
       "    .dataframe tbody tr th:only-of-type {\n",
       "        vertical-align: middle;\n",
       "    }\n",
       "\n",
       "    .dataframe tbody tr th {\n",
       "        vertical-align: top;\n",
       "    }\n",
       "\n",
       "    .dataframe thead th {\n",
       "        text-align: right;\n",
       "    }\n",
       "</style>\n",
       "<table border=\"1\" class=\"dataframe\">\n",
       "  <thead>\n",
       "    <tr style=\"text-align: right;\">\n",
       "      <th></th>\n",
       "      <th>Date</th>\n",
       "      <th>Time</th>\n",
       "      <th>ID</th>\n",
       "      <th>UserName</th>\n",
       "      <th>UserID</th>\n",
       "      <th>Tweet</th>\n",
       "      <th>Clean_Tweet</th>\n",
       "    </tr>\n",
       "  </thead>\n",
       "  <tbody>\n",
       "    <tr>\n",
       "      <th>0</th>\n",
       "      <td>2022-11-11</td>\n",
       "      <td>20:18:37</td>\n",
       "      <td>1591163507239972864</td>\n",
       "      <td>0xEthereumYoda</td>\n",
       "      <td>1551067188882116608</td>\n",
       "      <td>#Ethereum price update: \\n\\n#ETH $1259.19 USD\\...</td>\n",
       "      <td>ethereum price update eth usd bitcoin btc foll...</td>\n",
       "    </tr>\n",
       "    <tr>\n",
       "      <th>1</th>\n",
       "      <td>2022-11-11</td>\n",
       "      <td>20:18:30</td>\n",
       "      <td>1591163479536599041</td>\n",
       "      <td>BNB_Tracker</td>\n",
       "      <td>1546364668503298048</td>\n",
       "      <td>#BinanceCoin price update: $BNB\\n\\n#BNB $286.4...</td>\n",
       "      <td>binancecoin price update bnb bnb usd bitcoin b...</td>\n",
       "    </tr>\n",
       "    <tr>\n",
       "      <th>2</th>\n",
       "      <td>2022-11-11</td>\n",
       "      <td>20:18:27</td>\n",
       "      <td>1591163464642613249</td>\n",
       "      <td>beigi65</td>\n",
       "      <td>1574706917930303491</td>\n",
       "      <td>RT @NikolaBench: #Shill me an #altcoin to buy ...</td>\n",
       "      <td>nikolabench shill altcoin buy weekend</td>\n",
       "    </tr>\n",
       "    <tr>\n",
       "      <th>3</th>\n",
       "      <td>2022-11-11</td>\n",
       "      <td>20:18:21</td>\n",
       "      <td>1591163441682984960</td>\n",
       "      <td>Sardor44641891</td>\n",
       "      <td>1407016888668983298</td>\n",
       "      <td>RT @ChinaPumpWXC: Which #altcoin 💎 on #BSC #ER...</td>\n",
       "      <td>chinapumpwxc altcoin bsc erc buy next</td>\n",
       "    </tr>\n",
       "    <tr>\n",
       "      <th>4</th>\n",
       "      <td>2022-11-11</td>\n",
       "      <td>20:18:17</td>\n",
       "      <td>1591163423798484993</td>\n",
       "      <td>amir60584503</td>\n",
       "      <td>1577387643809185792</td>\n",
       "      <td>RT @CryptoThro: Shill me your best #altcoin or...</td>\n",
       "      <td>cryptothro shill best altcoin memecoin</td>\n",
       "    </tr>\n",
       "  </tbody>\n",
       "</table>\n",
       "</div>"
      ],
      "text/plain": [
       "         Date      Time                   ID        UserName  \\\n",
       "0  2022-11-11  20:18:37  1591163507239972864  0xEthereumYoda   \n",
       "1  2022-11-11  20:18:30  1591163479536599041     BNB_Tracker   \n",
       "2  2022-11-11  20:18:27  1591163464642613249         beigi65   \n",
       "3  2022-11-11  20:18:21  1591163441682984960  Sardor44641891   \n",
       "4  2022-11-11  20:18:17  1591163423798484993    amir60584503   \n",
       "\n",
       "                UserID                                              Tweet  \\\n",
       "0  1551067188882116608  #Ethereum price update: \\n\\n#ETH $1259.19 USD\\...   \n",
       "1  1546364668503298048  #BinanceCoin price update: $BNB\\n\\n#BNB $286.4...   \n",
       "2  1574706917930303491  RT @NikolaBench: #Shill me an #altcoin to buy ...   \n",
       "3  1407016888668983298  RT @ChinaPumpWXC: Which #altcoin 💎 on #BSC #ER...   \n",
       "4  1577387643809185792  RT @CryptoThro: Shill me your best #altcoin or...   \n",
       "\n",
       "                                         Clean_Tweet  \n",
       "0  ethereum price update eth usd bitcoin btc foll...  \n",
       "1  binancecoin price update bnb bnb usd bitcoin b...  \n",
       "2              nikolabench shill altcoin buy weekend  \n",
       "3              chinapumpwxc altcoin bsc erc buy next  \n",
       "4             cryptothro shill best altcoin memecoin  "
      ]
     },
     "execution_count": 18,
     "metadata": {},
     "output_type": "execute_result"
    }
   ],
   "source": [
    "df_altcoin = pd.read_csv(\"test_csv/Tweets_altcoin.csv\",index_col='Unnamed: 0')\n",
    "df_altcoin[\"Clean_Tweet\"]=clean(df_altcoin[\"Tweet\"])\n",
    "df_altcoin.head()"
   ]
  },
  {
   "cell_type": "code",
   "execution_count": 19,
   "id": "5e46d19f",
   "metadata": {
    "collapsed": true
   },
   "outputs": [
    {
     "data": {
      "text/html": [
       "<div>\n",
       "<style scoped>\n",
       "    .dataframe tbody tr th:only-of-type {\n",
       "        vertical-align: middle;\n",
       "    }\n",
       "\n",
       "    .dataframe tbody tr th {\n",
       "        vertical-align: top;\n",
       "    }\n",
       "\n",
       "    .dataframe thead th {\n",
       "        text-align: right;\n",
       "    }\n",
       "</style>\n",
       "<table border=\"1\" class=\"dataframe\">\n",
       "  <thead>\n",
       "    <tr style=\"text-align: right;\">\n",
       "      <th></th>\n",
       "      <th>Date</th>\n",
       "      <th>Time</th>\n",
       "      <th>ID</th>\n",
       "      <th>UserName</th>\n",
       "      <th>UserID</th>\n",
       "      <th>Tweet</th>\n",
       "      <th>Clean_Tweet</th>\n",
       "    </tr>\n",
       "  </thead>\n",
       "  <tbody>\n",
       "    <tr>\n",
       "      <th>0</th>\n",
       "      <td>2022-11-11</td>\n",
       "      <td>20:19:26</td>\n",
       "      <td>1591163714094657536</td>\n",
       "      <td>ilahitoibrahim</td>\n",
       "      <td>1568195039230324737</td>\n",
       "      <td>RT @army_shiba: $SHIB is the second biggest ho...</td>\n",
       "      <td>armyshiba shib second biggest holding cryptoco...</td>\n",
       "    </tr>\n",
       "    <tr>\n",
       "      <th>1</th>\n",
       "      <td>2022-11-11</td>\n",
       "      <td>20:19:25</td>\n",
       "      <td>1591163710378082304</td>\n",
       "      <td>Deeznutzwoody</td>\n",
       "      <td>1439674378963329025</td>\n",
       "      <td>RT @namcios: If you still have #bitcoin on an ...</td>\n",
       "      <td>namcios still bitcoin exchange withdraw simple...</td>\n",
       "    </tr>\n",
       "    <tr>\n",
       "      <th>2</th>\n",
       "      <td>2022-11-11</td>\n",
       "      <td>20:19:24</td>\n",
       "      <td>1591163704489693184</td>\n",
       "      <td>imTheRealMigu</td>\n",
       "      <td>98906707</td>\n",
       "      <td>RT @WatcherGuru: JUST IN: Michael Saylor's Mic...</td>\n",
       "      <td>watcherguru michael saylor microstrategy bitco...</td>\n",
       "    </tr>\n",
       "    <tr>\n",
       "      <th>3</th>\n",
       "      <td>2022-11-11</td>\n",
       "      <td>20:19:24</td>\n",
       "      <td>1591163703701172225</td>\n",
       "      <td>LoydGonzalez_</td>\n",
       "      <td>1551700441318055936</td>\n",
       "      <td>RT @BTC_Archive: JUST IN: 3,500 #Bitcoin worth...</td>\n",
       "      <td>btcarchive bitcoin worth m moved first time since</td>\n",
       "    </tr>\n",
       "    <tr>\n",
       "      <th>4</th>\n",
       "      <td>2022-11-11</td>\n",
       "      <td>20:19:23</td>\n",
       "      <td>1591163700836151296</td>\n",
       "      <td>RememberGacheru</td>\n",
       "      <td>1023817902808616960</td>\n",
       "      <td>RT @cryptobits_org: FTX customers attempt roun...</td>\n",
       "      <td>cryptobitsorg ftx customers attempt roundabout...</td>\n",
       "    </tr>\n",
       "  </tbody>\n",
       "</table>\n",
       "</div>"
      ],
      "text/plain": [
       "         Date      Time                   ID         UserName  \\\n",
       "0  2022-11-11  20:19:26  1591163714094657536   ilahitoibrahim   \n",
       "1  2022-11-11  20:19:25  1591163710378082304    Deeznutzwoody   \n",
       "2  2022-11-11  20:19:24  1591163704489693184    imTheRealMigu   \n",
       "3  2022-11-11  20:19:24  1591163703701172225    LoydGonzalez_   \n",
       "4  2022-11-11  20:19:23  1591163700836151296  RememberGacheru   \n",
       "\n",
       "                UserID                                              Tweet  \\\n",
       "0  1568195039230324737  RT @army_shiba: $SHIB is the second biggest ho...   \n",
       "1  1439674378963329025  RT @namcios: If you still have #bitcoin on an ...   \n",
       "2             98906707  RT @WatcherGuru: JUST IN: Michael Saylor's Mic...   \n",
       "3  1551700441318055936  RT @BTC_Archive: JUST IN: 3,500 #Bitcoin worth...   \n",
       "4  1023817902808616960  RT @cryptobits_org: FTX customers attempt roun...   \n",
       "\n",
       "                                         Clean_Tweet  \n",
       "0  armyshiba shib second biggest holding cryptoco...  \n",
       "1  namcios still bitcoin exchange withdraw simple...  \n",
       "2  watcherguru michael saylor microstrategy bitco...  \n",
       "3  btcarchive bitcoin worth m moved first time since  \n",
       "4  cryptobitsorg ftx customers attempt roundabout...  "
      ]
     },
     "execution_count": 19,
     "metadata": {},
     "output_type": "execute_result"
    }
   ],
   "source": [
    "df_bitcoin = pd.read_csv(\"test_csv/Tweets_bitcoin.csv\",index_col='Unnamed: 0')\n",
    "df_bitcoin[\"Clean_Tweet\"]=clean(df_bitcoin[\"Tweet\"])\n",
    "df_bitcoin.head()"
   ]
  },
  {
   "cell_type": "code",
   "execution_count": 20,
   "id": "8903cc5c",
   "metadata": {
    "collapsed": true
   },
   "outputs": [
    {
     "data": {
      "text/html": [
       "<div>\n",
       "<style scoped>\n",
       "    .dataframe tbody tr th:only-of-type {\n",
       "        vertical-align: middle;\n",
       "    }\n",
       "\n",
       "    .dataframe tbody tr th {\n",
       "        vertical-align: top;\n",
       "    }\n",
       "\n",
       "    .dataframe thead th {\n",
       "        text-align: right;\n",
       "    }\n",
       "</style>\n",
       "<table border=\"1\" class=\"dataframe\">\n",
       "  <thead>\n",
       "    <tr style=\"text-align: right;\">\n",
       "      <th></th>\n",
       "      <th>Date</th>\n",
       "      <th>Time</th>\n",
       "      <th>ID</th>\n",
       "      <th>UserName</th>\n",
       "      <th>UserID</th>\n",
       "      <th>Tweet</th>\n",
       "      <th>Clean_Tweet</th>\n",
       "    </tr>\n",
       "  </thead>\n",
       "  <tbody>\n",
       "    <tr>\n",
       "      <th>0</th>\n",
       "      <td>2022-11-11</td>\n",
       "      <td>21:0:38</td>\n",
       "      <td>1591174080631373829</td>\n",
       "      <td>CheekyCrypto</td>\n",
       "      <td>1303395304767709184</td>\n",
       "      <td>Are these EXCHANGES next? FTX &amp;amp; FTT brings...</td>\n",
       "      <td>exchanges next ftx amp ftt brings crypto winte...</td>\n",
       "    </tr>\n",
       "    <tr>\n",
       "      <th>1</th>\n",
       "      <td>2022-11-11</td>\n",
       "      <td>21:0:36</td>\n",
       "      <td>1591174072611864582</td>\n",
       "      <td>sheterroma</td>\n",
       "      <td>825618999052492801</td>\n",
       "      <td>👑ZetaChain is the only decentralized blockchai...</td>\n",
       "      <td>zetachain decentralized blockchain smart contr...</td>\n",
       "    </tr>\n",
       "    <tr>\n",
       "      <th>2</th>\n",
       "      <td>2022-11-11</td>\n",
       "      <td>21:0:33</td>\n",
       "      <td>1591174062780612609</td>\n",
       "      <td>Amir608914705</td>\n",
       "      <td>1463830586162696197</td>\n",
       "      <td>RT @Airdrop_Father: ☄️ UniDogeFinance Airdrop\\...</td>\n",
       "      <td>airdropfather unidogefinance airdrop rewards u...</td>\n",
       "    </tr>\n",
       "    <tr>\n",
       "      <th>3</th>\n",
       "      <td>2022-11-11</td>\n",
       "      <td>21:0:32</td>\n",
       "      <td>1591174058951184384</td>\n",
       "      <td>Airlegilucxy</td>\n",
       "      <td>1202573953304276997</td>\n",
       "      <td>RT @cookieslovedone: Withdraw all cryptocurren...</td>\n",
       "      <td>cookieslovedone withdraw cryptocurrency exchan...</td>\n",
       "    </tr>\n",
       "    <tr>\n",
       "      <th>4</th>\n",
       "      <td>2022-11-11</td>\n",
       "      <td>21:0:32</td>\n",
       "      <td>1591174057092939780</td>\n",
       "      <td>takeoff_tech</td>\n",
       "      <td>991921938334343168</td>\n",
       "      <td>【$TKO token #2】\\nTKO token will be used in Tak...</td>\n",
       "      <td>tko token tko token used takeoff news search t...</td>\n",
       "    </tr>\n",
       "    <tr>\n",
       "      <th>...</th>\n",
       "      <td>...</td>\n",
       "      <td>...</td>\n",
       "      <td>...</td>\n",
       "      <td>...</td>\n",
       "      <td>...</td>\n",
       "      <td>...</td>\n",
       "      <td>...</td>\n",
       "    </tr>\n",
       "    <tr>\n",
       "      <th>995</th>\n",
       "      <td>2022-11-11</td>\n",
       "      <td>20:9:42</td>\n",
       "      <td>1591161266466598913</td>\n",
       "      <td>cryptoholder0</td>\n",
       "      <td>1447904564569681922</td>\n",
       "      <td>RT @ultron_found: Find out more about what we'...</td>\n",
       "      <td>ultronfound find re building https tcovyvxluae...</td>\n",
       "    </tr>\n",
       "    <tr>\n",
       "      <th>996</th>\n",
       "      <td>2022-11-11</td>\n",
       "      <td>20:9:42</td>\n",
       "      <td>1591161263954034720</td>\n",
       "      <td>KatrinSamurai</td>\n",
       "      <td>1534112670256877569</td>\n",
       "      <td>RT @KatrinSamurai: The #RBXS marketing team us...</td>\n",
       "      <td>katrinsamurai rbxs marketing team uses great m...</td>\n",
       "    </tr>\n",
       "    <tr>\n",
       "      <th>997</th>\n",
       "      <td>2022-11-11</td>\n",
       "      <td>20:9:40</td>\n",
       "      <td>1591161254739152898</td>\n",
       "      <td>TraderMarcoCost</td>\n",
       "      <td>118794845</td>\n",
       "      <td>RT @TraderMarcoCost: Trader &amp;amp; Investor. 15...</td>\n",
       "      <td>tradermarcocost trader amp investor years demo...</td>\n",
       "    </tr>\n",
       "    <tr>\n",
       "      <th>998</th>\n",
       "      <td>2022-11-11</td>\n",
       "      <td>20:9:40</td>\n",
       "      <td>1591161254705795073</td>\n",
       "      <td>KatrinSamurai</td>\n",
       "      <td>1534112670256877569</td>\n",
       "      <td>RT @KatrinSamurai: #RBXS The strongest and bes...</td>\n",
       "      <td>katrinsamurai rbxs strongest best team field d...</td>\n",
       "    </tr>\n",
       "    <tr>\n",
       "      <th>999</th>\n",
       "      <td>2022-11-11</td>\n",
       "      <td>20:9:39</td>\n",
       "      <td>1591161253707513856</td>\n",
       "      <td>Pawali14</td>\n",
       "      <td>1519787870864748545</td>\n",
       "      <td>RT @truekingnoctis: In the middle of all these...</td>\n",
       "      <td>truekingnoctis middle cex crisis truly appreci...</td>\n",
       "    </tr>\n",
       "  </tbody>\n",
       "</table>\n",
       "<p>1000 rows × 7 columns</p>\n",
       "</div>"
      ],
      "text/plain": [
       "           Date     Time                   ID         UserName  \\\n",
       "0    2022-11-11  21:0:38  1591174080631373829     CheekyCrypto   \n",
       "1    2022-11-11  21:0:36  1591174072611864582       sheterroma   \n",
       "2    2022-11-11  21:0:33  1591174062780612609    Amir608914705   \n",
       "3    2022-11-11  21:0:32  1591174058951184384     Airlegilucxy   \n",
       "4    2022-11-11  21:0:32  1591174057092939780     takeoff_tech   \n",
       "..          ...      ...                  ...              ...   \n",
       "995  2022-11-11  20:9:42  1591161266466598913    cryptoholder0   \n",
       "996  2022-11-11  20:9:42  1591161263954034720    KatrinSamurai   \n",
       "997  2022-11-11  20:9:40  1591161254739152898  TraderMarcoCost   \n",
       "998  2022-11-11  20:9:40  1591161254705795073    KatrinSamurai   \n",
       "999  2022-11-11  20:9:39  1591161253707513856         Pawali14   \n",
       "\n",
       "                  UserID                                              Tweet  \\\n",
       "0    1303395304767709184  Are these EXCHANGES next? FTX &amp; FTT brings...   \n",
       "1     825618999052492801  👑ZetaChain is the only decentralized blockchai...   \n",
       "2    1463830586162696197  RT @Airdrop_Father: ☄️ UniDogeFinance Airdrop\\...   \n",
       "3    1202573953304276997  RT @cookieslovedone: Withdraw all cryptocurren...   \n",
       "4     991921938334343168  【$TKO token #2】\\nTKO token will be used in Tak...   \n",
       "..                   ...                                                ...   \n",
       "995  1447904564569681922  RT @ultron_found: Find out more about what we'...   \n",
       "996  1534112670256877569  RT @KatrinSamurai: The #RBXS marketing team us...   \n",
       "997            118794845  RT @TraderMarcoCost: Trader &amp; Investor. 15...   \n",
       "998  1534112670256877569  RT @KatrinSamurai: #RBXS The strongest and bes...   \n",
       "999  1519787870864748545  RT @truekingnoctis: In the middle of all these...   \n",
       "\n",
       "                                           Clean_Tweet  \n",
       "0    exchanges next ftx amp ftt brings crypto winte...  \n",
       "1    zetachain decentralized blockchain smart contr...  \n",
       "2    airdropfather unidogefinance airdrop rewards u...  \n",
       "3    cookieslovedone withdraw cryptocurrency exchan...  \n",
       "4    tko token tko token used takeoff news search t...  \n",
       "..                                                 ...  \n",
       "995  ultronfound find re building https tcovyvxluae...  \n",
       "996  katrinsamurai rbxs marketing team uses great m...  \n",
       "997  tradermarcocost trader amp investor years demo...  \n",
       "998  katrinsamurai rbxs strongest best team field d...  \n",
       "999  truekingnoctis middle cex crisis truly appreci...  \n",
       "\n",
       "[1000 rows x 7 columns]"
      ]
     },
     "execution_count": 20,
     "metadata": {},
     "output_type": "execute_result"
    }
   ],
   "source": [
    "df_cryptocurrency = pd.read_csv(\"test_csv/Tweets_cryptocurrency.csv\",index_col='Unnamed: 0')\n",
    "df_cryptocurrency[\"Clean_Tweet\"]=clean(df_cryptocurrency[\"Tweet\"])\n",
    "df_cryptocurrency"
   ]
  },
  {
   "cell_type": "code",
   "execution_count": 80,
   "id": "8b0e6644",
   "metadata": {
    "collapsed": true
   },
   "outputs": [
    {
     "data": {
      "text/html": [
       "<div>\n",
       "<style scoped>\n",
       "    .dataframe tbody tr th:only-of-type {\n",
       "        vertical-align: middle;\n",
       "    }\n",
       "\n",
       "    .dataframe tbody tr th {\n",
       "        vertical-align: top;\n",
       "    }\n",
       "\n",
       "    .dataframe thead th {\n",
       "        text-align: right;\n",
       "    }\n",
       "</style>\n",
       "<table border=\"1\" class=\"dataframe\">\n",
       "  <thead>\n",
       "    <tr style=\"text-align: right;\">\n",
       "      <th></th>\n",
       "      <th>Date</th>\n",
       "      <th>Time</th>\n",
       "      <th>ID</th>\n",
       "      <th>UserName</th>\n",
       "      <th>UserID</th>\n",
       "      <th>Tweet</th>\n",
       "      <th>Clean_Tweet</th>\n",
       "    </tr>\n",
       "  </thead>\n",
       "  <tbody>\n",
       "    <tr>\n",
       "      <th>0</th>\n",
       "      <td>2022-11-11</td>\n",
       "      <td>20:0:2</td>\n",
       "      <td>1591158833581359104</td>\n",
       "      <td>BTCticker</td>\n",
       "      <td>1323280062</td>\n",
       "      <td>One Bitcoin now worth $16833.328. Market Cap $...</td>\n",
       "      <td>one bitcoin worth market cap billion based coi...</td>\n",
       "    </tr>\n",
       "    <tr>\n",
       "      <th>1</th>\n",
       "      <td>2022-11-11</td>\n",
       "      <td>18:30:21</td>\n",
       "      <td>1591136263809208322</td>\n",
       "      <td>boxpiperapp</td>\n",
       "      <td>1304864618993520641</td>\n",
       "      <td>Speechless https://t.co/OEA0e72YF9 #cryptohaye...</td>\n",
       "      <td>speechless https tcooeaeyf cryptohayes cryptoc...</td>\n",
       "    </tr>\n",
       "    <tr>\n",
       "      <th>2</th>\n",
       "      <td>2022-11-11</td>\n",
       "      <td>18:22:4</td>\n",
       "      <td>1591134179429081090</td>\n",
       "      <td>DikeReality</td>\n",
       "      <td>1151516210233827330</td>\n",
       "      <td>#SEC Commissioner Hester Peirce: #FTX’s Collap...</td>\n",
       "      <td>sec commissioner hester peirce ftx collapse co...</td>\n",
       "    </tr>\n",
       "    <tr>\n",
       "      <th>3</th>\n",
       "      <td>2022-11-11</td>\n",
       "      <td>18:0:3</td>\n",
       "      <td>1591128636156829696</td>\n",
       "      <td>BTCticker</td>\n",
       "      <td>1323280062</td>\n",
       "      <td>One Bitcoin now worth $16894.184. Market Cap $...</td>\n",
       "      <td>one bitcoin worth market cap billion based coi...</td>\n",
       "    </tr>\n",
       "    <tr>\n",
       "      <th>4</th>\n",
       "      <td>2022-11-11</td>\n",
       "      <td>16:54:12</td>\n",
       "      <td>1591112067532361728</td>\n",
       "      <td>bethune_jane</td>\n",
       "      <td>1515494812857913347</td>\n",
       "      <td>One Bitcoin now worth $16853.284. Market Cap $...</td>\n",
       "      <td>one bitcoin worth market cap billion based coi...</td>\n",
       "    </tr>\n",
       "    <tr>\n",
       "      <th>...</th>\n",
       "      <td>...</td>\n",
       "      <td>...</td>\n",
       "      <td>...</td>\n",
       "      <td>...</td>\n",
       "      <td>...</td>\n",
       "      <td>...</td>\n",
       "      <td>...</td>\n",
       "    </tr>\n",
       "    <tr>\n",
       "      <th>402</th>\n",
       "      <td>2022-11-03</td>\n",
       "      <td>8:0:3</td>\n",
       "      <td>1588078539118727168</td>\n",
       "      <td>BTCticker</td>\n",
       "      <td>1323280062</td>\n",
       "      <td>One Bitcoin now worth $20319.285. Market Cap $...</td>\n",
       "      <td>one bitcoin worth market cap billion based coi...</td>\n",
       "    </tr>\n",
       "    <tr>\n",
       "      <th>403</th>\n",
       "      <td>2022-11-03</td>\n",
       "      <td>6:0:3</td>\n",
       "      <td>1588048338842157057</td>\n",
       "      <td>BTCticker</td>\n",
       "      <td>1323280062</td>\n",
       "      <td>One Bitcoin now worth $20381.226. Market Cap $...</td>\n",
       "      <td>one bitcoin worth market cap billion based coi...</td>\n",
       "    </tr>\n",
       "    <tr>\n",
       "      <th>404</th>\n",
       "      <td>2022-11-03</td>\n",
       "      <td>4:0:3</td>\n",
       "      <td>1588018141023567872</td>\n",
       "      <td>BTCticker</td>\n",
       "      <td>1323280062</td>\n",
       "      <td>One Bitcoin now worth $20303.854. Market Cap $...</td>\n",
       "      <td>one bitcoin worth market cap billion based coi...</td>\n",
       "    </tr>\n",
       "    <tr>\n",
       "      <th>405</th>\n",
       "      <td>2022-11-03</td>\n",
       "      <td>2:0:2</td>\n",
       "      <td>1587987938343780352</td>\n",
       "      <td>BTCticker</td>\n",
       "      <td>1323280062</td>\n",
       "      <td>One Bitcoin now worth $20300.945. Market Cap $...</td>\n",
       "      <td>one bitcoin worth market cap billion based coi...</td>\n",
       "    </tr>\n",
       "    <tr>\n",
       "      <th>406</th>\n",
       "      <td>2022-11-03</td>\n",
       "      <td>0:0:3</td>\n",
       "      <td>1587957743100592129</td>\n",
       "      <td>BTCticker</td>\n",
       "      <td>1323280062</td>\n",
       "      <td>One Bitcoin now worth $20151.226. Market Cap $...</td>\n",
       "      <td>one bitcoin worth market cap billion based coi...</td>\n",
       "    </tr>\n",
       "  </tbody>\n",
       "</table>\n",
       "<p>407 rows × 7 columns</p>\n",
       "</div>"
      ],
      "text/plain": [
       "           Date      Time                   ID      UserName  \\\n",
       "0    2022-11-11    20:0:2  1591158833581359104     BTCticker   \n",
       "1    2022-11-11  18:30:21  1591136263809208322   boxpiperapp   \n",
       "2    2022-11-11   18:22:4  1591134179429081090   DikeReality   \n",
       "3    2022-11-11    18:0:3  1591128636156829696     BTCticker   \n",
       "4    2022-11-11  16:54:12  1591112067532361728  bethune_jane   \n",
       "..          ...       ...                  ...           ...   \n",
       "402  2022-11-03     8:0:3  1588078539118727168     BTCticker   \n",
       "403  2022-11-03     6:0:3  1588048338842157057     BTCticker   \n",
       "404  2022-11-03     4:0:3  1588018141023567872     BTCticker   \n",
       "405  2022-11-03     2:0:2  1587987938343780352     BTCticker   \n",
       "406  2022-11-03     0:0:3  1587957743100592129     BTCticker   \n",
       "\n",
       "                  UserID                                              Tweet  \\\n",
       "0             1323280062  One Bitcoin now worth $16833.328. Market Cap $...   \n",
       "1    1304864618993520641  Speechless https://t.co/OEA0e72YF9 #cryptohaye...   \n",
       "2    1151516210233827330  #SEC Commissioner Hester Peirce: #FTX’s Collap...   \n",
       "3             1323280062  One Bitcoin now worth $16894.184. Market Cap $...   \n",
       "4    1515494812857913347  One Bitcoin now worth $16853.284. Market Cap $...   \n",
       "..                   ...                                                ...   \n",
       "402           1323280062  One Bitcoin now worth $20319.285. Market Cap $...   \n",
       "403           1323280062  One Bitcoin now worth $20381.226. Market Cap $...   \n",
       "404           1323280062  One Bitcoin now worth $20303.854. Market Cap $...   \n",
       "405           1323280062  One Bitcoin now worth $20300.945. Market Cap $...   \n",
       "406           1323280062  One Bitcoin now worth $20151.226. Market Cap $...   \n",
       "\n",
       "                                           Clean_Tweet  \n",
       "0    one bitcoin worth market cap billion based coi...  \n",
       "1    speechless https tcooeaeyf cryptohayes cryptoc...  \n",
       "2    sec commissioner hester peirce ftx collapse co...  \n",
       "3    one bitcoin worth market cap billion based coi...  \n",
       "4    one bitcoin worth market cap billion based coi...  \n",
       "..                                                 ...  \n",
       "402  one bitcoin worth market cap billion based coi...  \n",
       "403  one bitcoin worth market cap billion based coi...  \n",
       "404  one bitcoin worth market cap billion based coi...  \n",
       "405  one bitcoin worth market cap billion based coi...  \n",
       "406  one bitcoin worth market cap billion based coi...  \n",
       "\n",
       "[407 rows x 7 columns]"
      ]
     },
     "execution_count": 80,
     "metadata": {},
     "output_type": "execute_result"
    }
   ],
   "source": [
    "df_coindesk = pd.read_csv(\"test_csv/Tweets_coindesk.csv\",index_col='Unnamed: 0')\n",
    "df_coindesk[\"Clean_Tweet\"]=clean(df_coindesk[\"Tweet\"])\n",
    "df_coindesk"
   ]
  },
  {
   "cell_type": "code",
   "execution_count": 22,
   "id": "d0fee804",
   "metadata": {
    "collapsed": true
   },
   "outputs": [
    {
     "data": {
      "text/html": [
       "<div>\n",
       "<style scoped>\n",
       "    .dataframe tbody tr th:only-of-type {\n",
       "        vertical-align: middle;\n",
       "    }\n",
       "\n",
       "    .dataframe tbody tr th {\n",
       "        vertical-align: top;\n",
       "    }\n",
       "\n",
       "    .dataframe thead th {\n",
       "        text-align: right;\n",
       "    }\n",
       "</style>\n",
       "<table border=\"1\" class=\"dataframe\">\n",
       "  <thead>\n",
       "    <tr style=\"text-align: right;\">\n",
       "      <th></th>\n",
       "      <th>Date</th>\n",
       "      <th>Time</th>\n",
       "      <th>ID</th>\n",
       "      <th>UserName</th>\n",
       "      <th>UserID</th>\n",
       "      <th>Tweet</th>\n",
       "      <th>Clean_Tweet</th>\n",
       "    </tr>\n",
       "  </thead>\n",
       "  <tbody>\n",
       "    <tr>\n",
       "      <th>0</th>\n",
       "      <td>2022-11-11</td>\n",
       "      <td>21:43:51</td>\n",
       "      <td>1591184957916971009</td>\n",
       "      <td>hubofml</td>\n",
       "      <td>3040871649</td>\n",
       "      <td>RT @danieldekok: Madeesh Kannan ran gemm-bench...</td>\n",
       "      <td>danieldekok madeesh kannan ran gemmbenchmark u...</td>\n",
       "    </tr>\n",
       "    <tr>\n",
       "      <th>1</th>\n",
       "      <td>2022-11-11</td>\n",
       "      <td>21:43:45</td>\n",
       "      <td>1591184934403985409</td>\n",
       "      <td>MColebrook</td>\n",
       "      <td>23417129</td>\n",
       "      <td>RT @danieldekok: Madeesh Kannan ran gemm-bench...</td>\n",
       "      <td>danieldekok madeesh kannan ran gemmbenchmark u...</td>\n",
       "    </tr>\n",
       "    <tr>\n",
       "      <th>2</th>\n",
       "      <td>2022-11-11</td>\n",
       "      <td>21:43:34</td>\n",
       "      <td>1591184887356493825</td>\n",
       "      <td>Greg45120</td>\n",
       "      <td>3359191271</td>\n",
       "      <td>RT @Casatti20: LS - top overlay &amp;amp; widgy @K...</td>\n",
       "      <td>casatti top overlay amp widgy kothuq wallpaper...</td>\n",
       "    </tr>\n",
       "    <tr>\n",
       "      <th>3</th>\n",
       "      <td>2022-11-11</td>\n",
       "      <td>21:43:14</td>\n",
       "      <td>1591184801675235328</td>\n",
       "      <td>minutes_mac</td>\n",
       "      <td>1054581666683875328</td>\n",
       "      <td>Go out and get your Veteran’s Day Activity awa...</td>\n",
       "      <td>get veteran day activity award today minutes p...</td>\n",
       "    </tr>\n",
       "    <tr>\n",
       "      <th>4</th>\n",
       "      <td>2022-11-11</td>\n",
       "      <td>21:43:4</td>\n",
       "      <td>1591184759283396608</td>\n",
       "      <td>Fletcher410</td>\n",
       "      <td>1378918670282354688</td>\n",
       "      <td>RT @Jonys1978: my Apple Watch has style\\n#Reef...</td>\n",
       "      <td>jonys apple watch style reefchain apple denkom...</td>\n",
       "    </tr>\n",
       "    <tr>\n",
       "      <th>...</th>\n",
       "      <td>...</td>\n",
       "      <td>...</td>\n",
       "      <td>...</td>\n",
       "      <td>...</td>\n",
       "      <td>...</td>\n",
       "      <td>...</td>\n",
       "      <td>...</td>\n",
       "    </tr>\n",
       "    <tr>\n",
       "      <th>995</th>\n",
       "      <td>2022-11-11</td>\n",
       "      <td>14:1:44</td>\n",
       "      <td>1591068662072737794</td>\n",
       "      <td>JackCla19310726</td>\n",
       "      <td>1539355602547351552</td>\n",
       "      <td>RT @WeAreSaitama: 🍎 IT’S HERE📱 The much antici...</td>\n",
       "      <td>wearesaitama here much anticipated update sait...</td>\n",
       "    </tr>\n",
       "    <tr>\n",
       "      <th>996</th>\n",
       "      <td>2022-11-11</td>\n",
       "      <td>14:1:39</td>\n",
       "      <td>1591068640933470213</td>\n",
       "      <td>mburnett84</td>\n",
       "      <td>1586030077971668992</td>\n",
       "      <td>Apple Mac OS computers or Microsoft Windows co...</td>\n",
       "      <td>apple mac computers microsoft windows computer...</td>\n",
       "    </tr>\n",
       "    <tr>\n",
       "      <th>997</th>\n",
       "      <td>2022-11-11</td>\n",
       "      <td>14:1:3</td>\n",
       "      <td>1591068491402326016</td>\n",
       "      <td>LelumJayasooriy</td>\n",
       "      <td>788038783547674625</td>\n",
       "      <td>Fancy beach\\nDownload Now - https://t.co/QEmpV...</td>\n",
       "      <td>fancy beach download https tcoqempvggsz subscr...</td>\n",
       "    </tr>\n",
       "    <tr>\n",
       "      <th>998</th>\n",
       "      <td>2022-11-11</td>\n",
       "      <td>14:0:51</td>\n",
       "      <td>1591068441716334592</td>\n",
       "      <td>Hk3ToN</td>\n",
       "      <td>270981443</td>\n",
       "      <td>Mod. By @Hk3ToN\\n----------------------\\n#Appl...</td>\n",
       "      <td>mod hkton apple android ios iphonepro iphone i...</td>\n",
       "    </tr>\n",
       "    <tr>\n",
       "      <th>999</th>\n",
       "      <td>2022-11-11</td>\n",
       "      <td>14:0:30</td>\n",
       "      <td>1591068354089189376</td>\n",
       "      <td>gtbarry</td>\n",
       "      <td>24777840</td>\n",
       "      <td>Apple collects extremely detailed information ...</td>\n",
       "      <td>apple collects extremely detailed information ...</td>\n",
       "    </tr>\n",
       "  </tbody>\n",
       "</table>\n",
       "<p>1000 rows × 7 columns</p>\n",
       "</div>"
      ],
      "text/plain": [
       "           Date      Time                   ID         UserName  \\\n",
       "0    2022-11-11  21:43:51  1591184957916971009          hubofml   \n",
       "1    2022-11-11  21:43:45  1591184934403985409       MColebrook   \n",
       "2    2022-11-11  21:43:34  1591184887356493825        Greg45120   \n",
       "3    2022-11-11  21:43:14  1591184801675235328      minutes_mac   \n",
       "4    2022-11-11   21:43:4  1591184759283396608      Fletcher410   \n",
       "..          ...       ...                  ...              ...   \n",
       "995  2022-11-11   14:1:44  1591068662072737794  JackCla19310726   \n",
       "996  2022-11-11   14:1:39  1591068640933470213       mburnett84   \n",
       "997  2022-11-11    14:1:3  1591068491402326016  LelumJayasooriy   \n",
       "998  2022-11-11   14:0:51  1591068441716334592           Hk3ToN   \n",
       "999  2022-11-11   14:0:30  1591068354089189376          gtbarry   \n",
       "\n",
       "                  UserID                                              Tweet  \\\n",
       "0             3040871649  RT @danieldekok: Madeesh Kannan ran gemm-bench...   \n",
       "1               23417129  RT @danieldekok: Madeesh Kannan ran gemm-bench...   \n",
       "2             3359191271  RT @Casatti20: LS - top overlay &amp; widgy @K...   \n",
       "3    1054581666683875328  Go out and get your Veteran’s Day Activity awa...   \n",
       "4    1378918670282354688  RT @Jonys1978: my Apple Watch has style\\n#Reef...   \n",
       "..                   ...                                                ...   \n",
       "995  1539355602547351552  RT @WeAreSaitama: 🍎 IT’S HERE📱 The much antici...   \n",
       "996  1586030077971668992  Apple Mac OS computers or Microsoft Windows co...   \n",
       "997   788038783547674625  Fancy beach\\nDownload Now - https://t.co/QEmpV...   \n",
       "998            270981443  Mod. By @Hk3ToN\\n----------------------\\n#Appl...   \n",
       "999             24777840  Apple collects extremely detailed information ...   \n",
       "\n",
       "                                           Clean_Tweet  \n",
       "0    danieldekok madeesh kannan ran gemmbenchmark u...  \n",
       "1    danieldekok madeesh kannan ran gemmbenchmark u...  \n",
       "2    casatti top overlay amp widgy kothuq wallpaper...  \n",
       "3    get veteran day activity award today minutes p...  \n",
       "4    jonys apple watch style reefchain apple denkom...  \n",
       "..                                                 ...  \n",
       "995  wearesaitama here much anticipated update sait...  \n",
       "996  apple mac computers microsoft windows computer...  \n",
       "997  fancy beach download https tcoqempvggsz subscr...  \n",
       "998  mod hkton apple android ios iphonepro iphone i...  \n",
       "999  apple collects extremely detailed information ...  \n",
       "\n",
       "[1000 rows x 7 columns]"
      ]
     },
     "execution_count": 22,
     "metadata": {},
     "output_type": "execute_result"
    }
   ],
   "source": [
    "df_APPL = pd.read_csv(\"test_csv/Tweets_APPL.csv\",index_col='Unnamed: 0')\n",
    "df_APPL[\"Clean_Tweet\"]=clean(df_APPL[\"Tweet\"])\n",
    "df_APPL"
   ]
  },
  {
   "cell_type": "code",
   "execution_count": 23,
   "id": "2004c488",
   "metadata": {
    "collapsed": true
   },
   "outputs": [
    {
     "data": {
      "text/html": [
       "<div>\n",
       "<style scoped>\n",
       "    .dataframe tbody tr th:only-of-type {\n",
       "        vertical-align: middle;\n",
       "    }\n",
       "\n",
       "    .dataframe tbody tr th {\n",
       "        vertical-align: top;\n",
       "    }\n",
       "\n",
       "    .dataframe thead th {\n",
       "        text-align: right;\n",
       "    }\n",
       "</style>\n",
       "<table border=\"1\" class=\"dataframe\">\n",
       "  <thead>\n",
       "    <tr style=\"text-align: right;\">\n",
       "      <th></th>\n",
       "      <th>Date</th>\n",
       "      <th>Time</th>\n",
       "      <th>ID</th>\n",
       "      <th>UserName</th>\n",
       "      <th>UserID</th>\n",
       "      <th>Tweet</th>\n",
       "      <th>Clean_Tweet</th>\n",
       "    </tr>\n",
       "  </thead>\n",
       "  <tbody>\n",
       "    <tr>\n",
       "      <th>0</th>\n",
       "      <td>2022-11-11</td>\n",
       "      <td>20:7:45</td>\n",
       "      <td>1591160774101114880</td>\n",
       "      <td>ScalpMastert1</td>\n",
       "      <td>1166215998669840384</td>\n",
       "      <td>RT @ScalpMaster1: #AAPL worth as much as #META...</td>\n",
       "      <td>scalpmaster aapl worth much meta amzn goog put...</td>\n",
       "    </tr>\n",
       "    <tr>\n",
       "      <th>1</th>\n",
       "      <td>2022-11-11</td>\n",
       "      <td>18:53:47</td>\n",
       "      <td>1591142159876784129</td>\n",
       "      <td>leoventuresllc</td>\n",
       "      <td>893305069059403776</td>\n",
       "      <td>Google is the internet !! #google #googl #goog...</td>\n",
       "      <td>google internet google googl goog stock market...</td>\n",
       "    </tr>\n",
       "    <tr>\n",
       "      <th>2</th>\n",
       "      <td>2022-11-11</td>\n",
       "      <td>18:23:47</td>\n",
       "      <td>1591134609043251202</td>\n",
       "      <td>leoventuresllc</td>\n",
       "      <td>893305069059403776</td>\n",
       "      <td>Google...What Can I Say !! #google #googl #sto...</td>\n",
       "      <td>google say google googl stock tech internet go...</td>\n",
       "    </tr>\n",
       "    <tr>\n",
       "      <th>3</th>\n",
       "      <td>2022-11-11</td>\n",
       "      <td>18:14:3</td>\n",
       "      <td>1591132161125810176</td>\n",
       "      <td>brian_mulligan</td>\n",
       "      <td>34089380</td>\n",
       "      <td>ARE HEDGE FUND SHORTERS OFF TODAY???? #AMC #AP...</td>\n",
       "      <td>hedge fund shorters today amc ape gme tsla amz...</td>\n",
       "    </tr>\n",
       "    <tr>\n",
       "      <th>4</th>\n",
       "      <td>2022-11-11</td>\n",
       "      <td>17:24:7</td>\n",
       "      <td>1591119592998735873</td>\n",
       "      <td>ranu5</td>\n",
       "      <td>158637103</td>\n",
       "      <td>$GOOG #GOOG woohoo given target achieved today...</td>\n",
       "      <td>goog goog woohoo given target achieved today e...</td>\n",
       "    </tr>\n",
       "    <tr>\n",
       "      <th>...</th>\n",
       "      <td>...</td>\n",
       "      <td>...</td>\n",
       "      <td>...</td>\n",
       "      <td>...</td>\n",
       "      <td>...</td>\n",
       "      <td>...</td>\n",
       "      <td>...</td>\n",
       "    </tr>\n",
       "    <tr>\n",
       "      <th>246</th>\n",
       "      <td>2022-11-03</td>\n",
       "      <td>1:53:47</td>\n",
       "      <td>1587986365274357760</td>\n",
       "      <td>leoventuresllc</td>\n",
       "      <td>893305069059403776</td>\n",
       "      <td>Google is the internet !! #google #googl #goog...</td>\n",
       "      <td>google internet google googl goog stock market...</td>\n",
       "    </tr>\n",
       "    <tr>\n",
       "      <th>247</th>\n",
       "      <td>2022-11-03</td>\n",
       "      <td>1:43:2</td>\n",
       "      <td>1587983660871213056</td>\n",
       "      <td>futuristic_PH</td>\n",
       "      <td>121421348</td>\n",
       "      <td>Crypto is volatile..\\n\\nMeanwhile,\\n\\n#Bitcoin...</td>\n",
       "      <td>crypto volatile meanwhile bitcoin tsla msft go...</td>\n",
       "    </tr>\n",
       "    <tr>\n",
       "      <th>248</th>\n",
       "      <td>2022-11-03</td>\n",
       "      <td>1:23:47</td>\n",
       "      <td>1587978816173101059</td>\n",
       "      <td>leoventuresllc</td>\n",
       "      <td>893305069059403776</td>\n",
       "      <td>Google...What Can I Say !! #google #googl #sto...</td>\n",
       "      <td>google say google googl stock tech internet go...</td>\n",
       "    </tr>\n",
       "    <tr>\n",
       "      <th>249</th>\n",
       "      <td>2022-11-03</td>\n",
       "      <td>0:55:11</td>\n",
       "      <td>1587971616968957952</td>\n",
       "      <td>MegaproData</td>\n",
       "      <td>1531371903419564034</td>\n",
       "      <td>Most Popular Stocks updated @ 11-02 19:55ET --...</td>\n",
       "      <td>popular stocks updated et https tcoalyhjsisqr ...</td>\n",
       "    </tr>\n",
       "    <tr>\n",
       "      <th>250</th>\n",
       "      <td>2022-11-03</td>\n",
       "      <td>0:0:10</td>\n",
       "      <td>1587957771147907075</td>\n",
       "      <td>MegaproData</td>\n",
       "      <td>1531371903419564034</td>\n",
       "      <td>Bullish Bearish Signals: Insider Buys &amp;amp; Se...</td>\n",
       "      <td>bullish bearish signals insider buys amp sells...</td>\n",
       "    </tr>\n",
       "  </tbody>\n",
       "</table>\n",
       "<p>251 rows × 7 columns</p>\n",
       "</div>"
      ],
      "text/plain": [
       "           Date      Time                   ID        UserName  \\\n",
       "0    2022-11-11   20:7:45  1591160774101114880   ScalpMastert1   \n",
       "1    2022-11-11  18:53:47  1591142159876784129  leoventuresllc   \n",
       "2    2022-11-11  18:23:47  1591134609043251202  leoventuresllc   \n",
       "3    2022-11-11   18:14:3  1591132161125810176  brian_mulligan   \n",
       "4    2022-11-11   17:24:7  1591119592998735873           ranu5   \n",
       "..          ...       ...                  ...             ...   \n",
       "246  2022-11-03   1:53:47  1587986365274357760  leoventuresllc   \n",
       "247  2022-11-03    1:43:2  1587983660871213056   futuristic_PH   \n",
       "248  2022-11-03   1:23:47  1587978816173101059  leoventuresllc   \n",
       "249  2022-11-03   0:55:11  1587971616968957952     MegaproData   \n",
       "250  2022-11-03    0:0:10  1587957771147907075     MegaproData   \n",
       "\n",
       "                  UserID                                              Tweet  \\\n",
       "0    1166215998669840384  RT @ScalpMaster1: #AAPL worth as much as #META...   \n",
       "1     893305069059403776  Google is the internet !! #google #googl #goog...   \n",
       "2     893305069059403776  Google...What Can I Say !! #google #googl #sto...   \n",
       "3               34089380  ARE HEDGE FUND SHORTERS OFF TODAY???? #AMC #AP...   \n",
       "4              158637103  $GOOG #GOOG woohoo given target achieved today...   \n",
       "..                   ...                                                ...   \n",
       "246   893305069059403776  Google is the internet !! #google #googl #goog...   \n",
       "247            121421348  Crypto is volatile..\\n\\nMeanwhile,\\n\\n#Bitcoin...   \n",
       "248   893305069059403776  Google...What Can I Say !! #google #googl #sto...   \n",
       "249  1531371903419564034  Most Popular Stocks updated @ 11-02 19:55ET --...   \n",
       "250  1531371903419564034  Bullish Bearish Signals: Insider Buys &amp; Se...   \n",
       "\n",
       "                                           Clean_Tweet  \n",
       "0    scalpmaster aapl worth much meta amzn goog put...  \n",
       "1    google internet google googl goog stock market...  \n",
       "2    google say google googl stock tech internet go...  \n",
       "3    hedge fund shorters today amc ape gme tsla amz...  \n",
       "4    goog goog woohoo given target achieved today e...  \n",
       "..                                                 ...  \n",
       "246  google internet google googl goog stock market...  \n",
       "247  crypto volatile meanwhile bitcoin tsla msft go...  \n",
       "248  google say google googl stock tech internet go...  \n",
       "249  popular stocks updated et https tcoalyhjsisqr ...  \n",
       "250  bullish bearish signals insider buys amp sells...  \n",
       "\n",
       "[251 rows x 7 columns]"
      ]
     },
     "execution_count": 23,
     "metadata": {},
     "output_type": "execute_result"
    }
   ],
   "source": [
    "df_GOOG = pd.read_csv(\"test_csv/Tweets_GOOG.csv\",index_col='Unnamed: 0')\n",
    "df_GOOG[\"Clean_Tweet\"]=clean(df_GOOG[\"Tweet\"])\n",
    "df_GOOG"
   ]
  },
  {
   "cell_type": "code",
   "execution_count": 24,
   "id": "56e5f663",
   "metadata": {
    "collapsed": true
   },
   "outputs": [
    {
     "data": {
      "text/html": [
       "<div>\n",
       "<style scoped>\n",
       "    .dataframe tbody tr th:only-of-type {\n",
       "        vertical-align: middle;\n",
       "    }\n",
       "\n",
       "    .dataframe tbody tr th {\n",
       "        vertical-align: top;\n",
       "    }\n",
       "\n",
       "    .dataframe thead th {\n",
       "        text-align: right;\n",
       "    }\n",
       "</style>\n",
       "<table border=\"1\" class=\"dataframe\">\n",
       "  <thead>\n",
       "    <tr style=\"text-align: right;\">\n",
       "      <th></th>\n",
       "      <th>Date</th>\n",
       "      <th>Time</th>\n",
       "      <th>ID</th>\n",
       "      <th>UserName</th>\n",
       "      <th>UserID</th>\n",
       "      <th>Tweet</th>\n",
       "      <th>Clean_Tweet</th>\n",
       "    </tr>\n",
       "  </thead>\n",
       "  <tbody>\n",
       "    <tr>\n",
       "      <th>0</th>\n",
       "      <td>2022-11-11</td>\n",
       "      <td>21:44:5</td>\n",
       "      <td>1591185017840934913</td>\n",
       "      <td>BrownsChat</td>\n",
       "      <td>3018973980</td>\n",
       "      <td>News &amp;amp; Notes: Myles Garrett believes Denze...</td>\n",
       "      <td>news amp notes myles garrett believes denzel w...</td>\n",
       "    </tr>\n",
       "    <tr>\n",
       "      <th>1</th>\n",
       "      <td>2022-11-11</td>\n",
       "      <td>21:41:3</td>\n",
       "      <td>1591184255534735371</td>\n",
       "      <td>ColtsSupporters</td>\n",
       "      <td>3023214667</td>\n",
       "      <td>Fantasy Football Daily Notes: Raiders put Wall...</td>\n",
       "      <td>fantasy football daily notes raiders put walle...</td>\n",
       "    </tr>\n",
       "    <tr>\n",
       "      <th>2</th>\n",
       "      <td>2022-11-11</td>\n",
       "      <td>21:41:1</td>\n",
       "      <td>1591184244856037387</td>\n",
       "      <td>BrownsChat</td>\n",
       "      <td>3018973980</td>\n",
       "      <td>Will the Cleveland Browns upset the Miami Dolp...</td>\n",
       "      <td>cleveland browns upset miami dolphins final pr...</td>\n",
       "    </tr>\n",
       "    <tr>\n",
       "      <th>3</th>\n",
       "      <td>2022-11-11</td>\n",
       "      <td>21:41:0</td>\n",
       "      <td>1591184240946941952</td>\n",
       "      <td>BillsNewsNow</td>\n",
       "      <td>3029125923</td>\n",
       "      <td>Elbow injury to Bills' Josh Allen reminds Whit...</td>\n",
       "      <td>elbow injury bills josh allen reminds whitwort...</td>\n",
       "    </tr>\n",
       "    <tr>\n",
       "      <th>4</th>\n",
       "      <td>2022-11-11</td>\n",
       "      <td>21:41:0</td>\n",
       "      <td>1591184240854847488</td>\n",
       "      <td>BuccaneersViews</td>\n",
       "      <td>3037620558</td>\n",
       "      <td>Tom Brady elaborates on his belief that the Bu...</td>\n",
       "      <td>tom brady elaborates belief buccaneers lacking...</td>\n",
       "    </tr>\n",
       "    <tr>\n",
       "      <th>...</th>\n",
       "      <td>...</td>\n",
       "      <td>...</td>\n",
       "      <td>...</td>\n",
       "      <td>...</td>\n",
       "      <td>...</td>\n",
       "      <td>...</td>\n",
       "      <td>...</td>\n",
       "    </tr>\n",
       "    <tr>\n",
       "      <th>995</th>\n",
       "      <td>2022-11-10</td>\n",
       "      <td>17:37:6</td>\n",
       "      <td>1590760472596185088</td>\n",
       "      <td>BrownsChat</td>\n",
       "      <td>3018973980</td>\n",
       "      <td>Defeating Dolphins Defense Starts with Solving...</td>\n",
       "      <td>defeating dolphins defense starts solving star...</td>\n",
       "    </tr>\n",
       "    <tr>\n",
       "      <th>996</th>\n",
       "      <td>2022-11-10</td>\n",
       "      <td>17:37:4</td>\n",
       "      <td>1590760464551743515</td>\n",
       "      <td>ColtsSupporters</td>\n",
       "      <td>3023214667</td>\n",
       "      <td>The Colts Hired Jeff Saturday As Head Coach. W...</td>\n",
       "      <td>colts hired jeff saturday head coach questions...</td>\n",
       "    </tr>\n",
       "    <tr>\n",
       "      <th>997</th>\n",
       "      <td>2022-11-10</td>\n",
       "      <td>17:37:3</td>\n",
       "      <td>1590760460659306496</td>\n",
       "      <td>DolphinsViews</td>\n",
       "      <td>3031939171</td>\n",
       "      <td>Defeating Dolphins Defense Starts with Solving...</td>\n",
       "      <td>defeating dolphins defense starts solving star...</td>\n",
       "    </tr>\n",
       "    <tr>\n",
       "      <th>998</th>\n",
       "      <td>2022-11-10</td>\n",
       "      <td>17:37:2</td>\n",
       "      <td>1590760458125877248</td>\n",
       "      <td>CommandersViews</td>\n",
       "      <td>3031941805</td>\n",
       "      <td>Commanders cornerback thinks team needs 'a fre...</td>\n",
       "      <td>commanders cornerback thinks team needs fresh ...</td>\n",
       "    </tr>\n",
       "    <tr>\n",
       "      <th>999</th>\n",
       "      <td>2022-11-10</td>\n",
       "      <td>17:36:2</td>\n",
       "      <td>1590760204186005507</td>\n",
       "      <td>CardinalsViews</td>\n",
       "      <td>3011726562</td>\n",
       "      <td>Fantasy Injury Updates: Latest news on Josh Al...</td>\n",
       "      <td>fantasy injury updates latest news josh allen ...</td>\n",
       "    </tr>\n",
       "  </tbody>\n",
       "</table>\n",
       "<p>1000 rows × 7 columns</p>\n",
       "</div>"
      ],
      "text/plain": [
       "           Date     Time                   ID         UserName      UserID  \\\n",
       "0    2022-11-11  21:44:5  1591185017840934913       BrownsChat  3018973980   \n",
       "1    2022-11-11  21:41:3  1591184255534735371  ColtsSupporters  3023214667   \n",
       "2    2022-11-11  21:41:1  1591184244856037387       BrownsChat  3018973980   \n",
       "3    2022-11-11  21:41:0  1591184240946941952     BillsNewsNow  3029125923   \n",
       "4    2022-11-11  21:41:0  1591184240854847488  BuccaneersViews  3037620558   \n",
       "..          ...      ...                  ...              ...         ...   \n",
       "995  2022-11-10  17:37:6  1590760472596185088       BrownsChat  3018973980   \n",
       "996  2022-11-10  17:37:4  1590760464551743515  ColtsSupporters  3023214667   \n",
       "997  2022-11-10  17:37:3  1590760460659306496    DolphinsViews  3031939171   \n",
       "998  2022-11-10  17:37:2  1590760458125877248  CommandersViews  3031941805   \n",
       "999  2022-11-10  17:36:2  1590760204186005507   CardinalsViews  3011726562   \n",
       "\n",
       "                                                 Tweet  \\\n",
       "0    News &amp; Notes: Myles Garrett believes Denze...   \n",
       "1    Fantasy Football Daily Notes: Raiders put Wall...   \n",
       "2    Will the Cleveland Browns upset the Miami Dolp...   \n",
       "3    Elbow injury to Bills' Josh Allen reminds Whit...   \n",
       "4    Tom Brady elaborates on his belief that the Bu...   \n",
       "..                                                 ...   \n",
       "995  Defeating Dolphins Defense Starts with Solving...   \n",
       "996  The Colts Hired Jeff Saturday As Head Coach. W...   \n",
       "997  Defeating Dolphins Defense Starts with Solving...   \n",
       "998  Commanders cornerback thinks team needs 'a fre...   \n",
       "999  Fantasy Injury Updates: Latest news on Josh Al...   \n",
       "\n",
       "                                           Clean_Tweet  \n",
       "0    news amp notes myles garrett believes denzel w...  \n",
       "1    fantasy football daily notes raiders put walle...  \n",
       "2    cleveland browns upset miami dolphins final pr...  \n",
       "3    elbow injury bills josh allen reminds whitwort...  \n",
       "4    tom brady elaborates belief buccaneers lacking...  \n",
       "..                                                 ...  \n",
       "995  defeating dolphins defense starts solving star...  \n",
       "996  colts hired jeff saturday head coach questions...  \n",
       "997  defeating dolphins defense starts solving star...  \n",
       "998  commanders cornerback thinks team needs fresh ...  \n",
       "999  fantasy injury updates latest news josh allen ...  \n",
       "\n",
       "[1000 rows x 7 columns]"
      ]
     },
     "execution_count": 24,
     "metadata": {},
     "output_type": "execute_result"
    }
   ],
   "source": [
    "df_YAHOO = pd.read_csv(\"test_csv/Tweets_YAHOO.csv\",index_col='Unnamed: 0')\n",
    "df_YAHOO[\"Clean_Tweet\"]=clean(df_YAHOO[\"Tweet\"])\n",
    "df_YAHOO"
   ]
  },
  {
   "cell_type": "code",
   "execution_count": 56,
   "id": "5a3de9ee",
   "metadata": {
    "collapsed": true
   },
   "outputs": [
    {
     "data": {
      "text/html": [
       "<div>\n",
       "<style scoped>\n",
       "    .dataframe tbody tr th:only-of-type {\n",
       "        vertical-align: middle;\n",
       "    }\n",
       "\n",
       "    .dataframe tbody tr th {\n",
       "        vertical-align: top;\n",
       "    }\n",
       "\n",
       "    .dataframe thead th {\n",
       "        text-align: right;\n",
       "    }\n",
       "</style>\n",
       "<table border=\"1\" class=\"dataframe\">\n",
       "  <thead>\n",
       "    <tr style=\"text-align: right;\">\n",
       "      <th></th>\n",
       "      <th>Date</th>\n",
       "      <th>Time</th>\n",
       "      <th>ID</th>\n",
       "      <th>UserName</th>\n",
       "      <th>UserID</th>\n",
       "      <th>Tweet</th>\n",
       "      <th>Clean_Tweet</th>\n",
       "    </tr>\n",
       "  </thead>\n",
       "  <tbody>\n",
       "    <tr>\n",
       "      <th>0</th>\n",
       "      <td>2022-11-11</td>\n",
       "      <td>22:10:12</td>\n",
       "      <td>1591191588344299520</td>\n",
       "      <td>PopescuCo</td>\n",
       "      <td>369786451</td>\n",
       "      <td>#Gold Price in British Pound vs Pound/USDollar...</td>\n",
       "      <td>gold price british pound poundusdollar today n...</td>\n",
       "    </tr>\n",
       "    <tr>\n",
       "      <th>1</th>\n",
       "      <td>2022-11-11</td>\n",
       "      <td>22:9:52</td>\n",
       "      <td>1591191504311263240</td>\n",
       "      <td>artofkaizen</td>\n",
       "      <td>268901120</td>\n",
       "      <td>RT @DollarCostAvg: Textbook ascending broadeni...</td>\n",
       "      <td>dollarcostavg textbook ascending broadening we...</td>\n",
       "    </tr>\n",
       "    <tr>\n",
       "      <th>2</th>\n",
       "      <td>2022-11-11</td>\n",
       "      <td>22:9:45</td>\n",
       "      <td>1591191477035864065</td>\n",
       "      <td>VJMS9</td>\n",
       "      <td>1002346553049092098</td>\n",
       "      <td>Excited to share the latest addition to my #et...</td>\n",
       "      <td>excited share latest addition etsy shop sale c...</td>\n",
       "    </tr>\n",
       "    <tr>\n",
       "      <th>3</th>\n",
       "      <td>2022-11-11</td>\n",
       "      <td>22:9:19</td>\n",
       "      <td>1591191367413530625</td>\n",
       "      <td>PopescuCo</td>\n",
       "      <td>369786451</td>\n",
       "      <td>#Gold Price in Swiss Franc vs Franc/USDollar t...</td>\n",
       "      <td>gold price swiss franc francusdollar today nov...</td>\n",
       "    </tr>\n",
       "    <tr>\n",
       "      <th>4</th>\n",
       "      <td>2022-11-11</td>\n",
       "      <td>22:9:18</td>\n",
       "      <td>1591191364955668481</td>\n",
       "      <td>Space_Gray_Cat</td>\n",
       "      <td>1495458527501897732</td>\n",
       "      <td>#Gold: SPDR Gold Shares ETF (GLD) closed today...</td>\n",
       "      <td>gold spdr gold shares etf gld closed today htt...</td>\n",
       "    </tr>\n",
       "    <tr>\n",
       "      <th>...</th>\n",
       "      <td>...</td>\n",
       "      <td>...</td>\n",
       "      <td>...</td>\n",
       "      <td>...</td>\n",
       "      <td>...</td>\n",
       "      <td>...</td>\n",
       "      <td>...</td>\n",
       "    </tr>\n",
       "    <tr>\n",
       "      <th>995</th>\n",
       "      <td>2022-11-11</td>\n",
       "      <td>17:28:13</td>\n",
       "      <td>1591120625749602305</td>\n",
       "      <td>MarkTwaint</td>\n",
       "      <td>903716874055245824</td>\n",
       "      <td>RT @WallStreetSilv: SBF said yesterday their U...</td>\n",
       "      <td>wallstreetsilv sbf said yesterday division imp...</td>\n",
       "    </tr>\n",
       "    <tr>\n",
       "      <th>996</th>\n",
       "      <td>2022-11-11</td>\n",
       "      <td>17:28:3</td>\n",
       "      <td>1591120585975017473</td>\n",
       "      <td>MacroStratChris</td>\n",
       "      <td>1039833270136000512</td>\n",
       "      <td>\"The 'Policy Pivot' May Not Be Bullish\" - Zero...</td>\n",
       "      <td>policy pivot may bullish zeroedge kidding spy ...</td>\n",
       "    </tr>\n",
       "    <tr>\n",
       "      <th>997</th>\n",
       "      <td>2022-11-11</td>\n",
       "      <td>17:27:40</td>\n",
       "      <td>1591120488579076097</td>\n",
       "      <td>silahsilva1981</td>\n",
       "      <td>1440561124357726220</td>\n",
       "      <td>RT @itmtrading_zang: Leverage will kill you.Ph...</td>\n",
       "      <td>itmtradingzang leverage kill youphysical gold ...</td>\n",
       "    </tr>\n",
       "    <tr>\n",
       "      <th>998</th>\n",
       "      <td>2022-11-11</td>\n",
       "      <td>17:27:21</td>\n",
       "      <td>1591120407918444544</td>\n",
       "      <td>MustafaSala7</td>\n",
       "      <td>32631046</td>\n",
       "      <td>#Eternity #Gold Puffed #Heart Drop #Earrings\\n...</td>\n",
       "      <td>eternity gold puffed heart drop earrings https...</td>\n",
       "    </tr>\n",
       "    <tr>\n",
       "      <th>999</th>\n",
       "      <td>2022-11-11</td>\n",
       "      <td>17:26:49</td>\n",
       "      <td>1591120271766847493</td>\n",
       "      <td>LinkBeard</td>\n",
       "      <td>1249357733721243648</td>\n",
       "      <td>RT @cache_gold: What is your favorite #stablec...</td>\n",
       "      <td>cachegold favorite stablecoin really backed su...</td>\n",
       "    </tr>\n",
       "  </tbody>\n",
       "</table>\n",
       "<p>1000 rows × 7 columns</p>\n",
       "</div>"
      ],
      "text/plain": [
       "           Date      Time                   ID         UserName  \\\n",
       "0    2022-11-11  22:10:12  1591191588344299520        PopescuCo   \n",
       "1    2022-11-11   22:9:52  1591191504311263240      artofkaizen   \n",
       "2    2022-11-11   22:9:45  1591191477035864065            VJMS9   \n",
       "3    2022-11-11   22:9:19  1591191367413530625        PopescuCo   \n",
       "4    2022-11-11   22:9:18  1591191364955668481   Space_Gray_Cat   \n",
       "..          ...       ...                  ...              ...   \n",
       "995  2022-11-11  17:28:13  1591120625749602305       MarkTwaint   \n",
       "996  2022-11-11   17:28:3  1591120585975017473  MacroStratChris   \n",
       "997  2022-11-11  17:27:40  1591120488579076097   silahsilva1981   \n",
       "998  2022-11-11  17:27:21  1591120407918444544     MustafaSala7   \n",
       "999  2022-11-11  17:26:49  1591120271766847493        LinkBeard   \n",
       "\n",
       "                  UserID                                              Tweet  \\\n",
       "0              369786451  #Gold Price in British Pound vs Pound/USDollar...   \n",
       "1              268901120  RT @DollarCostAvg: Textbook ascending broadeni...   \n",
       "2    1002346553049092098  Excited to share the latest addition to my #et...   \n",
       "3              369786451  #Gold Price in Swiss Franc vs Franc/USDollar t...   \n",
       "4    1495458527501897732  #Gold: SPDR Gold Shares ETF (GLD) closed today...   \n",
       "..                   ...                                                ...   \n",
       "995   903716874055245824  RT @WallStreetSilv: SBF said yesterday their U...   \n",
       "996  1039833270136000512  \"The 'Policy Pivot' May Not Be Bullish\" - Zero...   \n",
       "997  1440561124357726220  RT @itmtrading_zang: Leverage will kill you.Ph...   \n",
       "998             32631046  #Eternity #Gold Puffed #Heart Drop #Earrings\\n...   \n",
       "999  1249357733721243648  RT @cache_gold: What is your favorite #stablec...   \n",
       "\n",
       "                                           Clean_Tweet  \n",
       "0    gold price british pound poundusdollar today n...  \n",
       "1    dollarcostavg textbook ascending broadening we...  \n",
       "2    excited share latest addition etsy shop sale c...  \n",
       "3    gold price swiss franc francusdollar today nov...  \n",
       "4    gold spdr gold shares etf gld closed today htt...  \n",
       "..                                                 ...  \n",
       "995  wallstreetsilv sbf said yesterday division imp...  \n",
       "996  policy pivot may bullish zeroedge kidding spy ...  \n",
       "997  itmtradingzang leverage kill youphysical gold ...  \n",
       "998  eternity gold puffed heart drop earrings https...  \n",
       "999  cachegold favorite stablecoin really backed su...  \n",
       "\n",
       "[1000 rows x 7 columns]"
      ]
     },
     "execution_count": 56,
     "metadata": {},
     "output_type": "execute_result"
    }
   ],
   "source": [
    "df_gold = pd.read_csv(\"test_csv/Tweets_gold.csv\",index_col='Unnamed: 0')\n",
    "df_gold[\"Clean_Tweet\"]=clean(df_gold[\"Tweet\"])\n",
    "df_gold"
   ]
  },
  {
   "cell_type": "markdown",
   "id": "fa4f1acc",
   "metadata": {},
   "source": [
    "# Visualizing the data"
   ]
  },
  {
   "cell_type": "markdown",
   "id": "69266d3c",
   "metadata": {},
   "source": [
    "## by hourly number of tweets"
   ]
  },
  {
   "cell_type": "code",
   "execution_count": 69,
   "id": "73686022",
   "metadata": {},
   "outputs": [],
   "source": [
    "df_altcoin.Time = [int(i.split(':')[0]) for i in df_altcoin.Time] "
   ]
  },
  {
   "cell_type": "code",
   "execution_count": 71,
   "id": "e35b6c4d",
   "metadata": {
    "collapsed": true
   },
   "outputs": [
    {
     "data": {
      "image/png": "[encoded data removed]",
      "text/plain": [
       "<Figure size 360x216 with 1 Axes>"
      ]
     },
     "metadata": {
      "needs_background": "light"
     },
     "output_type": "display_data"
    }
   ],
   "source": [
    "df_altcoin.groupby(by='Time')['Time'].describe()['count'].plot(kind='bar',title='altcoin',figsize=(5,3))\n",
    "plt.xlabel(\"Time\")\n",
    "plt.ylabel(\"Number of Tweets\")\n",
    "plt.show()"
   ]
  },
  {
   "cell_type": "code",
   "execution_count": 72,
   "id": "3262a1c9",
   "metadata": {},
   "outputs": [],
   "source": [
    "df_bitcoin.Time = [int(i.split(':')[0]) for i in df_bitcoin.Time] "
   ]
  },
  {
   "cell_type": "code",
   "execution_count": 73,
   "id": "c2d272cc",
   "metadata": {
    "collapsed": true
   },
   "outputs": [
    {
     "data": {
      "image/png": "[encoded data removed]",
      "text/plain": [
       "<Figure size 360x216 with 1 Axes>"
      ]
     },
     "metadata": {
      "needs_background": "light"
     },
     "output_type": "display_data"
    }
   ],
   "source": [
    "df_bitcoin.groupby(by='Time')['Time'].describe()['count'].plot(kind='bar',title='bitcoin',figsize=(5,3))\n",
    "plt.xlabel(\"Time\")\n",
    "plt.ylabel(\"Number of Tweets\")\n",
    "plt.show()"
   ]
  },
  {
   "cell_type": "code",
   "execution_count": 74,
   "id": "8a58c559",
   "metadata": {},
   "outputs": [],
   "source": [
    "df_cryptocurrency.Time = [int(i.split(':')[0]) for i in df_cryptocurrency.Time] "
   ]
  },
  {
   "cell_type": "code",
   "execution_count": 75,
   "id": "7a18a14c",
   "metadata": {
    "collapsed": true
   },
   "outputs": [
    {
     "data": {
      "image/png": "[encoded data removed]",
      "text/plain": [
       "<Figure size 360x216 with 1 Axes>"
      ]
     },
     "metadata": {
      "needs_background": "light"
     },
     "output_type": "display_data"
    }
   ],
   "source": [
    "df_cryptocurrency.groupby(by='Time')['Time'].describe()['count'].plot(kind='bar',title='cryptocurrency',figsize=(5,3))\n",
    "plt.xlabel(\"Time\")\n",
    "plt.ylabel(\"Number of Tweets\")\n",
    "plt.show()"
   ]
  },
  {
   "cell_type": "code",
   "execution_count": 81,
   "id": "0a5f4278",
   "metadata": {},
   "outputs": [],
   "source": [
    "df_coindesk.Time = [int(i.split(':')[0]) for i in df_coindesk.Time] "
   ]
  },
  {
   "cell_type": "code",
   "execution_count": 82,
   "id": "1039bd17",
   "metadata": {
    "collapsed": true
   },
   "outputs": [
    {
     "data": {
      "image/png": "[encoded data removed]",
      "text/plain": [
       "<Figure size 360x216 with 1 Axes>"
      ]
     },
     "metadata": {
      "needs_background": "light"
     },
     "output_type": "display_data"
    }
   ],
   "source": [
    "df_coindesk.groupby(by='Time')['Time'].describe()['count'].plot(kind='bar',title='coindesk',figsize=(5,3))\n",
    "plt.xlabel(\"Time\")\n",
    "plt.ylabel(\"Number of Tweets\")\n",
    "plt.show()"
   ]
  },
  {
   "cell_type": "code",
   "execution_count": 83,
   "id": "d467d8cb",
   "metadata": {},
   "outputs": [],
   "source": [
    "df_APPL.Time = [int(i.split(':')[0]) for i in df_APPL.Time] "
   ]
  },
  {
   "cell_type": "code",
   "execution_count": 84,
   "id": "486bc9b6",
   "metadata": {
    "collapsed": true
   },
   "outputs": [
    {
     "data": {
      "image/png": "[encoded data removed]",
      "text/plain": [
       "<Figure size 360x216 with 1 Axes>"
      ]
     },
     "metadata": {
      "needs_background": "light"
     },
     "output_type": "display_data"
    }
   ],
   "source": [
    "df_APPL.groupby(by='Time')['Time'].describe()['count'].plot(kind='bar',title='APPL',figsize=(5,3))\n",
    "plt.xlabel(\"Time\")\n",
    "plt.ylabel(\"Number of Tweets\")\n",
    "plt.show()"
   ]
  },
  {
   "cell_type": "code",
   "execution_count": 85,
   "id": "71e486e8",
   "metadata": {},
   "outputs": [],
   "source": [
    "df_GOOG.Time = [int(i.split(':')[0]) for i in df_GOOG.Time] "
   ]
  },
  {
   "cell_type": "code",
   "execution_count": 86,
   "id": "25bbbeaa",
   "metadata": {
    "collapsed": true
   },
   "outputs": [
    {
     "data": {
      "image/png": "[encoded data removed]",
      "text/plain": [
       "<Figure size 360x216 with 1 Axes>"
      ]
     },
     "metadata": {
      "needs_background": "light"
     },
     "output_type": "display_data"
    }
   ],
   "source": [
    "df_GOOG.groupby(by='Time')['Time'].describe()['count'].plot(kind='bar',title='GOOG',figsize=(5,3))\n",
    "plt.xlabel(\"Time\")\n",
    "plt.ylabel(\"Number of Tweets\")\n",
    "plt.show()"
   ]
  },
  {
   "cell_type": "code",
   "execution_count": 87,
   "id": "374a162f",
   "metadata": {},
   "outputs": [],
   "source": [
    "df_YAHOO.Time = [int(i.split(':')[0]) for i in df_YAHOO.Time] "
   ]
  },
  {
   "cell_type": "code",
   "execution_count": 88,
   "id": "6ca975d7",
   "metadata": {
    "collapsed": true
   },
   "outputs": [
    {
     "data": {
      "image/png": "[encoded data removed]",
      "text/plain": [
       "<Figure size 360x216 with 1 Axes>"
      ]
     },
     "metadata": {
      "needs_background": "light"
     },
     "output_type": "display_data"
    }
   ],
   "source": [
    "df_YAHOO.groupby(by='Time')['Time'].describe()['count'].plot(kind='bar',title='YAHOO',figsize=(5,3))\n",
    "plt.xlabel(\"Time\")\n",
    "plt.ylabel(\"Number of Tweets\")\n",
    "plt.show()"
   ]
  },
  {
   "cell_type": "code",
   "execution_count": 64,
   "id": "106a63e8",
   "metadata": {},
   "outputs": [],
   "source": [
    "df_gold.Time = [int(i.split(':')[0]) for i in df_gold.Time] "
   ]
  },
  {
   "cell_type": "code",
   "execution_count": 68,
   "id": "563d26dc",
   "metadata": {
    "collapsed": true
   },
   "outputs": [
    {
     "data": {
      "image/png": "[encoded data removed]",
      "text/plain": [
       "<Figure size 360x216 with 1 Axes>"
      ]
     },
     "metadata": {
      "needs_background": "light"
     },
     "output_type": "display_data"
    }
   ],
   "source": [
    "df_gold.groupby(by='Time')['Time'].describe()['count'].plot(kind='bar',title='gold',figsize=(5,3))\n",
    "plt.xlabel(\"Time\")\n",
    "plt.ylabel(\"Number of Tweets\")\n",
    "plt.show()"
   ]
  },
  {
   "cell_type": "markdown",
   "id": "b5efd904",
   "metadata": {},
   "source": [
    "## by daily number of tweets"
   ]
  },
  {
   "cell_type": "code",
   "execution_count": 45,
   "id": "5526f63c",
   "metadata": {},
   "outputs": [],
   "source": [
    "df_GOOG.Date = pd.to_datetime(df_GOOG.Date,format='%Y-%m-%d')"
   ]
  },
  {
   "cell_type": "code",
   "execution_count": 46,
   "id": "fc5971eb",
   "metadata": {},
   "outputs": [
    {
     "data": {
      "image/png": "[encoded data removed]",
      "text/plain": [
       "<Figure size 360x216 with 1 Axes>"
      ]
     },
     "metadata": {
      "needs_background": "light"
     },
     "output_type": "display_data"
    }
   ],
   "source": [
    "df_GOOG.groupby(by='Date')['Date'].describe()['count'].plot(kind='bar',title='GOOG',figsize=(5,3))\n",
    "plt.xlabel(\"Date\")\n",
    "plt.ylabel(\"Number of Tweets\")\n",
    "plt.show()"
   ]
  },
  {
   "cell_type": "code",
   "execution_count": 32,
   "id": "13f01eae",
   "metadata": {},
   "outputs": [],
   "source": [
    "df_coindesk.Date = pd.to_datetime(df_coindesk.Date)"
   ]
  },
  {
   "cell_type": "code",
   "execution_count": 33,
   "id": "fd350d16",
   "metadata": {},
   "outputs": [
    {
     "data": {
      "image/png": "[encoded data removed]",
      "text/plain": [
       "<Figure size 360x216 with 1 Axes>"
      ]
     },
     "metadata": {
      "needs_background": "light"
     },
     "output_type": "display_data"
    }
   ],
   "source": [
    "df_coindesk.groupby(by='Date')['Date'].describe()['count'].plot(kind='bar',title='coindesk',figsize=(5,3))\n",
    "plt.xlabel(\"Date\")\n",
    "plt.ylabel(\"Number of Tweets\")\n",
    "plt.show()"
   ]
  },
  {
   "cell_type": "markdown",
   "id": "57f1d1f5",
   "metadata": {},
   "source": [
    "## by hourly number of users"
   ]
  },
  {
   "cell_type": "code",
   "execution_count": 160,
   "id": "43dd69e9",
   "metadata": {
    "collapsed": true
   },
   "outputs": [
    {
     "data": {
      "image/png": "[encoded data removed]",
      "text/plain": [
       "<Figure size 360x216 with 1 Axes>"
      ]
     },
     "metadata": {
      "needs_background": "light"
     },
     "output_type": "display_data"
    }
   ],
   "source": [
    "df_altcoin.groupby(by=['Time'])['UserName'].agg(['nunique']).plot(kind='bar',title='altcoin',figsize=(5,3))\n",
    "plt.ylabel(\"Number of Users\")\n",
    "plt.show()"
   ]
  },
  {
   "cell_type": "code",
   "execution_count": 161,
   "id": "19c8cd6c",
   "metadata": {
    "collapsed": true
   },
   "outputs": [
    {
     "data": {
      "image/png": "[encoded data removed]",
      "text/plain": [
       "<Figure size 360x216 with 1 Axes>"
      ]
     },
     "metadata": {
      "needs_background": "light"
     },
     "output_type": "display_data"
    }
   ],
   "source": [
    "df_bitcoin.groupby(by=['Time'])['UserName'].agg(['nunique']).plot(kind='bar',title='bitcoin',figsize=(5,3))\n",
    "plt.ylabel(\"Number of Users\")\n",
    "plt.show()"
   ]
  },
  {
   "cell_type": "code",
   "execution_count": 162,
   "id": "62ab55cb",
   "metadata": {
    "collapsed": true
   },
   "outputs": [
    {
     "data": {
      "image/png": "[encoded data removed]",
      "text/plain": [
       "<Figure size 360x216 with 1 Axes>"
      ]
     },
     "metadata": {
      "needs_background": "light"
     },
     "output_type": "display_data"
    }
   ],
   "source": [
    "df_cryptocurrency.groupby(by=['Time'])['UserName'].agg(['nunique']).plot(kind='bar',title='cryptocurrency',figsize=(5,3))\n",
    "plt.ylabel(\"Number of Users\")\n",
    "plt.show()"
   ]
  },
  {
   "cell_type": "code",
   "execution_count": 163,
   "id": "c5d93c2e",
   "metadata": {
    "collapsed": true
   },
   "outputs": [
    {
     "data": {
      "image/png": "[encoded data removed]",
      "text/plain": [
       "<Figure size 360x216 with 1 Axes>"
      ]
     },
     "metadata": {
      "needs_background": "light"
     },
     "output_type": "display_data"
    }
   ],
   "source": [
    "df_APPL.groupby(by=['Time'])['UserName'].agg(['nunique']).plot(kind='bar',title='APPL',figsize=(5,3))\n",
    "plt.ylabel(\"Number of Users\")\n",
    "plt.show()"
   ]
  },
  {
   "cell_type": "code",
   "execution_count": 164,
   "id": "7d72dda1",
   "metadata": {
    "collapsed": true
   },
   "outputs": [
    {
     "data": {
      "image/png": "[encoded data removed]",
      "text/plain": [
       "<Figure size 360x216 with 1 Axes>"
      ]
     },
     "metadata": {
      "needs_background": "light"
     },
     "output_type": "display_data"
    }
   ],
   "source": [
    "df_YAHOO.groupby(by=['Time'])['UserName'].agg(['nunique']).plot(kind='bar',title='YAHOO',figsize=(5,3))\n",
    "plt.ylabel(\"Number of Users\")\n",
    "plt.show()"
   ]
  },
  {
   "cell_type": "code",
   "execution_count": 165,
   "id": "ec039598",
   "metadata": {
    "collapsed": true
   },
   "outputs": [
    {
     "data": {
      "image/png": "[encoded data removed]",
      "text/plain": [
       "<Figure size 360x216 with 1 Axes>"
      ]
     },
     "metadata": {
      "needs_background": "light"
     },
     "output_type": "display_data"
    }
   ],
   "source": [
    "df_gold.groupby(by=['Time'])['UserName'].agg(['nunique']).plot(kind='bar',title='gold',figsize=(5,3))\n",
    "plt.ylabel(\"Number of Users\")\n",
    "plt.show()"
   ]
  },
  {
   "cell_type": "markdown",
   "id": "3c19aa45",
   "metadata": {},
   "source": [
    "## by daily number of users"
   ]
  },
  {
   "cell_type": "code",
   "execution_count": 158,
   "id": "a9dea663",
   "metadata": {},
   "outputs": [
    {
     "data": {
      "image/png": "[encoded data removed]",
      "text/plain": [
       "<Figure size 360x216 with 1 Axes>"
      ]
     },
     "metadata": {
      "needs_background": "light"
     },
     "output_type": "display_data"
    }
   ],
   "source": [
    "df_GOOG.groupby(by=['Date'])['UserName'].agg(['nunique']).plot(kind='bar',title='GOOG',figsize=(5,3))\n",
    "plt.ylabel(\"Number of Users\")\n",
    "plt.show()"
   ]
  },
  {
   "cell_type": "code",
   "execution_count": 157,
   "id": "186db40a",
   "metadata": {
    "scrolled": false
   },
   "outputs": [
    {
     "data": {
      "image/png": "[encoded data removed]",
      "text/plain": [
       "<Figure size 360x216 with 1 Axes>"
      ]
     },
     "metadata": {
      "needs_background": "light"
     },
     "output_type": "display_data"
    }
   ],
   "source": [
    "df_coindesk.groupby(by=['Date'])['UserName'].agg(['nunique']).plot(kind='bar',title='coindesk',figsize=(5,3))\n",
    "plt.ylabel(\"Number of Users\")\n",
    "plt.show()"
   ]
  },
  {
   "cell_type": "code",
   "execution_count": null,
   "id": "e1c53454",
   "metadata": {},
   "outputs": [],
   "source": []
  }
 ],
 "metadata": {
  "kernelspec": {
   "display_name": "Python 3 (ipykernel)",
   "language": "python",
   "name": "python3"
  },
  "language_info": {
   "codemirror_mode": {
    "name": "ipython",
    "version": 3
   },
   "file_extension": ".py",
   "mimetype": "text/x-python",
   "name": "python",
   "nbconvert_exporter": "python",
   "pygments_lexer": "ipython3",
   "version": "3.9.0"
  }
 },
 "nbformat": 4,
 "nbformat_minor": 5
}
